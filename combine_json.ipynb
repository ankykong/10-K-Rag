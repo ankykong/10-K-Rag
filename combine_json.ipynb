{
 "cells": [
  {
   "cell_type": "code",
   "execution_count": 2,
   "metadata": {},
   "outputs": [],
   "source": [
    "import os\n",
    "import json"
   ]
  },
  {
   "cell_type": "code",
   "execution_count": 3,
   "metadata": {},
   "outputs": [],
   "source": [
    "def merge_json_files(directory, output_file):\n",
    "    \"\"\"\n",
    "    Merges all JSON files in the specified directory into a single JSON file.\n",
    "\n",
    "    Args:\n",
    "    directory (str): The path to the directory containing JSON files.\n",
    "    output_file (str): The path to the output JSON file.\n",
    "    \"\"\"\n",
    "    # List to hold the data from all JSON files\n",
    "    all_data = []\n",
    "\n",
    "    # Iterate over all files in the directory\n",
    "    for filename in os.listdir(directory):\n",
    "        if filename.endswith('.json'):\n",
    "            file_path = os.path.join(directory, filename)\n",
    "            # Open and load the JSON data\n",
    "            with open(file_path, 'r') as file:\n",
    "                data = json.load(file)\n",
    "                all_data.append(data)\n",
    "\n",
    "    # Write the combined data to the output file\n",
    "    with open(output_file, 'w') as file:\n",
    "        json.dump(all_data, file, indent=4)"
   ]
  },
  {
   "cell_type": "code",
   "execution_count": 7,
   "metadata": {},
   "outputs": [
    {
     "ename": "NotADirectoryError",
     "evalue": "[Errno 20] Not a directory: 'Benchmarks/AAPL_QA.json'",
     "output_type": "error",
     "traceback": [
      "\u001b[0;31m---------------------------------------------------------------------------\u001b[0m",
      "\u001b[0;31mNotADirectoryError\u001b[0m                        Traceback (most recent call last)",
      "Cell \u001b[0;32mIn[7], line 7\u001b[0m\n\u001b[1;32m      5\u001b[0m     \u001b[38;5;28;01mcontinue\u001b[39;00m\n\u001b[1;32m      6\u001b[0m company_folder_path \u001b[38;5;241m=\u001b[39m os\u001b[38;5;241m.\u001b[39mpath\u001b[38;5;241m.\u001b[39mjoin(file_path, company)\n\u001b[0;32m----> 7\u001b[0m \u001b[43mmerge_json_files\u001b[49m\u001b[43m(\u001b[49m\u001b[43mcompany_folder_path\u001b[49m\u001b[43m,\u001b[49m\u001b[43m \u001b[49m\u001b[43mcompany_folder_path\u001b[49m\u001b[38;5;241;43m+\u001b[39;49m\u001b[38;5;124;43m\"\u001b[39;49m\u001b[38;5;124;43m.json\u001b[39;49m\u001b[38;5;124;43m\"\u001b[39;49m\u001b[43m)\u001b[49m\n",
      "Cell \u001b[0;32mIn[3], line 13\u001b[0m, in \u001b[0;36mmerge_json_files\u001b[0;34m(directory, output_file)\u001b[0m\n\u001b[1;32m     10\u001b[0m all_data \u001b[38;5;241m=\u001b[39m []\n\u001b[1;32m     12\u001b[0m \u001b[38;5;66;03m# Iterate over all files in the directory\u001b[39;00m\n\u001b[0;32m---> 13\u001b[0m \u001b[38;5;28;01mfor\u001b[39;00m filename \u001b[38;5;129;01min\u001b[39;00m os\u001b[38;5;241m.\u001b[39mlistdir(directory):\n\u001b[1;32m     14\u001b[0m     \u001b[38;5;28;01mif\u001b[39;00m filename\u001b[38;5;241m.\u001b[39mendswith(\u001b[38;5;124m'\u001b[39m\u001b[38;5;124m.json\u001b[39m\u001b[38;5;124m'\u001b[39m):\n\u001b[1;32m     15\u001b[0m         file_path \u001b[38;5;241m=\u001b[39m os\u001b[38;5;241m.\u001b[39mpath\u001b[38;5;241m.\u001b[39mjoin(directory, filename)\n",
      "\u001b[0;31mNotADirectoryError\u001b[0m: [Errno 20] Not a directory: 'Benchmarks/AAPL_QA.json'"
     ]
    }
   ],
   "source": [
    "file_path = 'Benchmarks'\n",
    "for company in os.listdir(file_path):\n",
    "    if company == '.DS_Store':\n",
    "        continue\n",
    "    company_folder_path = os.path.join(file_path, company)\n",
    "    merge_json_files(company_folder_path, company_folder_path+\".json\")"
   ]
  },
  {
   "cell_type": "code",
   "execution_count": 16,
   "metadata": {},
   "outputs": [],
   "source": [
    "company = \"TSLA_QA\"\n",
    "company_folder_path = os.path.join(file_path, company)\n",
    "merge_json_files(company_folder_path, company_folder_path+\".json\")"
   ]
  },
  {
   "cell_type": "code",
   "execution_count": 17,
   "metadata": {},
   "outputs": [],
   "source": [
    "merge_json_files(file_path, file_path+\"/QAs.json\")"
   ]
  },
  {
   "cell_type": "code",
   "execution_count": 24,
   "metadata": {},
   "outputs": [],
   "source": [
    "def extract_questions(json_file_path, output_text_file):\n",
    "    \"\"\"\n",
    "    Parses a JSON file to extract questions and save them into a text document.\n",
    "\n",
    "    Args:\n",
    "    json_file_path (str): The path to the JSON file.\n",
    "    output_text_file (str): The path to the output text file where questions will be saved.\n",
    "    \"\"\"\n",
    "    try:\n",
    "        # Open and load the JSON file\n",
    "        with open(json_file_path, 'r') as file:\n",
    "            data = json.load(file)\n",
    "\n",
    "        # Open the output text file\n",
    "        with open(output_text_file, 'w') as file:\n",
    "            # Iterate over each item in the JSON data\n",
    "            for item in data:\n",
    "                # Extract the question and write it to the text file\n",
    "                question = item.get('question')  # Adjust the key if necessary\n",
    "                if question:\n",
    "                    file.write(question + '\\n')\n",
    "                elif item.get('Question'):\n",
    "                    file.write(item.get('Question') + '\\n')\n",
    "\n",
    "        print(f\"Questions have been successfully extracted to {output_text_file}\")\n",
    "\n",
    "    except Exception as e:\n",
    "        print(f\"An error occurred: {str(e)}\")"
   ]
  },
  {
   "cell_type": "code",
   "execution_count": 26,
   "metadata": {},
   "outputs": [
    {
     "name": "stdout",
     "output_type": "stream",
     "text": [
      "Questions have been successfully extracted to Benchmarks/Questions.txt\n"
     ]
    }
   ],
   "source": [
    "json_file_path = 'Benchmarks/QAs.json'\n",
    "output_text_file = 'Benchmarks/Questions.txt'\n",
    "extract_questions(json_file_path, output_text_file)"
   ]
  },
  {
   "cell_type": "code",
   "execution_count": null,
   "metadata": {},
   "outputs": [],
   "source": []
  }
 ],
 "metadata": {
  "kernelspec": {
   "display_name": "Python 3",
   "language": "python",
   "name": "python3"
  },
  "language_info": {
   "codemirror_mode": {
    "name": "ipython",
    "version": 3
   },
   "file_extension": ".py",
   "mimetype": "text/x-python",
   "name": "python",
   "nbconvert_exporter": "python",
   "pygments_lexer": "ipython3",
   "version": "3.11.8"
  }
 },
 "nbformat": 4,
 "nbformat_minor": 2
}
