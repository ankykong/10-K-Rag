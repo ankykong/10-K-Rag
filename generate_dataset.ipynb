{
 "cells": [
  {
   "cell_type": "code",
   "execution_count": 5,
   "metadata": {},
   "outputs": [
    {
     "name": "stdout",
     "output_type": "stream",
     "text": [
      "Collecting llama-index-packs-raft-dataset\n",
      "  Downloading llama_index_packs_raft_dataset-0.1.4-py3-none-any.whl.metadata (3.6 kB)\n",
      "Requirement already satisfied: datasets<3.0.0,>=2.18.0 in /Users/ankurduggal/.pyenv/versions/3.11.8/lib/python3.11/site-packages (from llama-index-packs-raft-dataset) (2.18.0)\n",
      "Requirement already satisfied: llama-index-core<0.11.0,>=0.10.0 in /Users/ankurduggal/.pyenv/versions/3.11.8/lib/python3.11/site-packages (from llama-index-packs-raft-dataset) (0.10.25.post3)\n",
      "Requirement already satisfied: filelock in /Users/ankurduggal/.pyenv/versions/3.11.8/lib/python3.11/site-packages (from datasets<3.0.0,>=2.18.0->llama-index-packs-raft-dataset) (3.0.12)\n",
      "Requirement already satisfied: numpy>=1.17 in /Users/ankurduggal/.pyenv/versions/3.11.8/lib/python3.11/site-packages (from datasets<3.0.0,>=2.18.0->llama-index-packs-raft-dataset) (1.26.4)\n",
      "Requirement already satisfied: pyarrow>=12.0.0 in /Users/ankurduggal/.pyenv/versions/3.11.8/lib/python3.11/site-packages (from datasets<3.0.0,>=2.18.0->llama-index-packs-raft-dataset) (15.0.2)\n",
      "Requirement already satisfied: pyarrow-hotfix in /Users/ankurduggal/.pyenv/versions/3.11.8/lib/python3.11/site-packages (from datasets<3.0.0,>=2.18.0->llama-index-packs-raft-dataset) (0.6)\n",
      "Requirement already satisfied: dill<0.3.9,>=0.3.0 in /Users/ankurduggal/.pyenv/versions/3.11.8/lib/python3.11/site-packages (from datasets<3.0.0,>=2.18.0->llama-index-packs-raft-dataset) (0.3.8)\n",
      "Requirement already satisfied: pandas in /Users/ankurduggal/.pyenv/versions/3.11.8/lib/python3.11/site-packages (from datasets<3.0.0,>=2.18.0->llama-index-packs-raft-dataset) (2.2.1)\n",
      "Requirement already satisfied: requests>=2.19.0 in /Users/ankurduggal/.pyenv/versions/3.11.8/lib/python3.11/site-packages (from datasets<3.0.0,>=2.18.0->llama-index-packs-raft-dataset) (2.31.0)\n",
      "Requirement already satisfied: tqdm>=4.62.1 in /Users/ankurduggal/.pyenv/versions/3.11.8/lib/python3.11/site-packages (from datasets<3.0.0,>=2.18.0->llama-index-packs-raft-dataset) (4.66.2)\n",
      "Requirement already satisfied: xxhash in /Users/ankurduggal/.pyenv/versions/3.11.8/lib/python3.11/site-packages (from datasets<3.0.0,>=2.18.0->llama-index-packs-raft-dataset) (3.4.1)\n",
      "Requirement already satisfied: multiprocess in /Users/ankurduggal/.pyenv/versions/3.11.8/lib/python3.11/site-packages (from datasets<3.0.0,>=2.18.0->llama-index-packs-raft-dataset) (0.70.16)\n",
      "Requirement already satisfied: fsspec<=2024.2.0,>=2023.1.0 in /Users/ankurduggal/.pyenv/versions/3.11.8/lib/python3.11/site-packages (from fsspec[http]<=2024.2.0,>=2023.1.0->datasets<3.0.0,>=2.18.0->llama-index-packs-raft-dataset) (2024.2.0)\n",
      "Requirement already satisfied: aiohttp in /Users/ankurduggal/.pyenv/versions/3.11.8/lib/python3.11/site-packages (from datasets<3.0.0,>=2.18.0->llama-index-packs-raft-dataset) (3.9.3)\n",
      "Requirement already satisfied: huggingface-hub>=0.19.4 in /Users/ankurduggal/.pyenv/versions/3.11.8/lib/python3.11/site-packages (from datasets<3.0.0,>=2.18.0->llama-index-packs-raft-dataset) (0.21.4)\n",
      "Requirement already satisfied: packaging in /Users/ankurduggal/.pyenv/versions/3.11.8/lib/python3.11/site-packages (from datasets<3.0.0,>=2.18.0->llama-index-packs-raft-dataset) (23.2)\n",
      "Requirement already satisfied: pyyaml>=5.1 in /Users/ankurduggal/.pyenv/versions/3.11.8/lib/python3.11/site-packages (from datasets<3.0.0,>=2.18.0->llama-index-packs-raft-dataset) (6.0.1)\n",
      "Requirement already satisfied: SQLAlchemy>=1.4.49 in /Users/ankurduggal/.pyenv/versions/3.11.8/lib/python3.11/site-packages (from SQLAlchemy[asyncio]>=1.4.49->llama-index-core<0.11.0,>=0.10.0->llama-index-packs-raft-dataset) (2.0.28)\n",
      "Requirement already satisfied: dataclasses-json in /Users/ankurduggal/.pyenv/versions/3.11.8/lib/python3.11/site-packages (from llama-index-core<0.11.0,>=0.10.0->llama-index-packs-raft-dataset) (0.6.4)\n",
      "Requirement already satisfied: deprecated>=1.2.9.3 in /Users/ankurduggal/.pyenv/versions/3.11.8/lib/python3.11/site-packages (from llama-index-core<0.11.0,>=0.10.0->llama-index-packs-raft-dataset) (1.2.14)\n",
      "Requirement already satisfied: dirtyjson<2.0.0,>=1.0.8 in /Users/ankurduggal/.pyenv/versions/3.11.8/lib/python3.11/site-packages (from llama-index-core<0.11.0,>=0.10.0->llama-index-packs-raft-dataset) (1.0.8)\n",
      "Requirement already satisfied: httpx in /Users/ankurduggal/.pyenv/versions/3.11.8/lib/python3.11/site-packages (from llama-index-core<0.11.0,>=0.10.0->llama-index-packs-raft-dataset) (0.25.2)\n",
      "Requirement already satisfied: llamaindex-py-client<0.2.0,>=0.1.15 in /Users/ankurduggal/.pyenv/versions/3.11.8/lib/python3.11/site-packages (from llama-index-core<0.11.0,>=0.10.0->llama-index-packs-raft-dataset) (0.1.15)\n",
      "Requirement already satisfied: nest-asyncio<2.0.0,>=1.5.8 in /Users/ankurduggal/.pyenv/versions/3.11.8/lib/python3.11/site-packages (from llama-index-core<0.11.0,>=0.10.0->llama-index-packs-raft-dataset) (1.6.0)\n",
      "Requirement already satisfied: networkx>=3.0 in /Users/ankurduggal/.pyenv/versions/3.11.8/lib/python3.11/site-packages (from llama-index-core<0.11.0,>=0.10.0->llama-index-packs-raft-dataset) (3.2.1)\n",
      "Requirement already satisfied: nltk<4.0.0,>=3.8.1 in /Users/ankurduggal/.pyenv/versions/3.11.8/lib/python3.11/site-packages (from llama-index-core<0.11.0,>=0.10.0->llama-index-packs-raft-dataset) (3.8.1)\n",
      "Requirement already satisfied: openai>=1.1.0 in /Users/ankurduggal/.pyenv/versions/3.11.8/lib/python3.11/site-packages (from llama-index-core<0.11.0,>=0.10.0->llama-index-packs-raft-dataset) (1.23.2)\n",
      "Requirement already satisfied: pillow>=9.0.0 in /Users/ankurduggal/.pyenv/versions/3.11.8/lib/python3.11/site-packages (from llama-index-core<0.11.0,>=0.10.0->llama-index-packs-raft-dataset) (10.2.0)\n",
      "Requirement already satisfied: tenacity<9.0.0,>=8.2.0 in /Users/ankurduggal/.pyenv/versions/3.11.8/lib/python3.11/site-packages (from llama-index-core<0.11.0,>=0.10.0->llama-index-packs-raft-dataset) (8.2.3)\n",
      "Requirement already satisfied: tiktoken>=0.3.3 in /Users/ankurduggal/.pyenv/versions/3.11.8/lib/python3.11/site-packages (from llama-index-core<0.11.0,>=0.10.0->llama-index-packs-raft-dataset) (0.6.0)\n",
      "Requirement already satisfied: typing-extensions>=4.5.0 in /Users/ankurduggal/.pyenv/versions/3.11.8/lib/python3.11/site-packages (from llama-index-core<0.11.0,>=0.10.0->llama-index-packs-raft-dataset) (4.11.0)\n",
      "Requirement already satisfied: typing-inspect>=0.8.0 in /Users/ankurduggal/.pyenv/versions/3.11.8/lib/python3.11/site-packages (from llama-index-core<0.11.0,>=0.10.0->llama-index-packs-raft-dataset) (0.9.0)\n",
      "Requirement already satisfied: wrapt in /Users/ankurduggal/.pyenv/versions/3.11.8/lib/python3.11/site-packages (from llama-index-core<0.11.0,>=0.10.0->llama-index-packs-raft-dataset) (1.16.0)\n",
      "Requirement already satisfied: aiosignal>=1.1.2 in /Users/ankurduggal/.pyenv/versions/3.11.8/lib/python3.11/site-packages (from aiohttp->datasets<3.0.0,>=2.18.0->llama-index-packs-raft-dataset) (1.3.1)\n",
      "Requirement already satisfied: attrs>=17.3.0 in /Users/ankurduggal/.pyenv/versions/3.11.8/lib/python3.11/site-packages (from aiohttp->datasets<3.0.0,>=2.18.0->llama-index-packs-raft-dataset) (23.2.0)\n",
      "Requirement already satisfied: frozenlist>=1.1.1 in /Users/ankurduggal/.pyenv/versions/3.11.8/lib/python3.11/site-packages (from aiohttp->datasets<3.0.0,>=2.18.0->llama-index-packs-raft-dataset) (1.4.1)\n",
      "Requirement already satisfied: multidict<7.0,>=4.5 in /Users/ankurduggal/.pyenv/versions/3.11.8/lib/python3.11/site-packages (from aiohttp->datasets<3.0.0,>=2.18.0->llama-index-packs-raft-dataset) (6.0.5)\n",
      "Requirement already satisfied: yarl<2.0,>=1.0 in /Users/ankurduggal/.pyenv/versions/3.11.8/lib/python3.11/site-packages (from aiohttp->datasets<3.0.0,>=2.18.0->llama-index-packs-raft-dataset) (1.9.4)\n",
      "Requirement already satisfied: pydantic>=1.10 in /Users/ankurduggal/.pyenv/versions/3.11.8/lib/python3.11/site-packages (from llamaindex-py-client<0.2.0,>=0.1.15->llama-index-core<0.11.0,>=0.10.0->llama-index-packs-raft-dataset) (2.6.1)\n",
      "Requirement already satisfied: anyio in /Users/ankurduggal/.pyenv/versions/3.11.8/lib/python3.11/site-packages (from httpx->llama-index-core<0.11.0,>=0.10.0->llama-index-packs-raft-dataset) (4.3.0)\n",
      "Requirement already satisfied: certifi in /Users/ankurduggal/.pyenv/versions/3.11.8/lib/python3.11/site-packages (from httpx->llama-index-core<0.11.0,>=0.10.0->llama-index-packs-raft-dataset) (2024.2.2)\n",
      "Requirement already satisfied: httpcore==1.* in /Users/ankurduggal/.pyenv/versions/3.11.8/lib/python3.11/site-packages (from httpx->llama-index-core<0.11.0,>=0.10.0->llama-index-packs-raft-dataset) (1.0.4)\n",
      "Requirement already satisfied: idna in /Users/ankurduggal/.pyenv/versions/3.11.8/lib/python3.11/site-packages (from httpx->llama-index-core<0.11.0,>=0.10.0->llama-index-packs-raft-dataset) (2.10)\n",
      "Requirement already satisfied: sniffio in /Users/ankurduggal/.pyenv/versions/3.11.8/lib/python3.11/site-packages (from httpx->llama-index-core<0.11.0,>=0.10.0->llama-index-packs-raft-dataset) (1.3.1)\n",
      "Requirement already satisfied: h11<0.15,>=0.13 in /Users/ankurduggal/.pyenv/versions/3.11.8/lib/python3.11/site-packages (from httpcore==1.*->httpx->llama-index-core<0.11.0,>=0.10.0->llama-index-packs-raft-dataset) (0.14.0)\n",
      "Requirement already satisfied: click in /Users/ankurduggal/.pyenv/versions/3.11.8/lib/python3.11/site-packages (from nltk<4.0.0,>=3.8.1->llama-index-core<0.11.0,>=0.10.0->llama-index-packs-raft-dataset) (8.1.7)\n",
      "Requirement already satisfied: joblib in /Users/ankurduggal/.pyenv/versions/3.11.8/lib/python3.11/site-packages (from nltk<4.0.0,>=3.8.1->llama-index-core<0.11.0,>=0.10.0->llama-index-packs-raft-dataset) (1.3.2)\n",
      "Requirement already satisfied: regex>=2021.8.3 in /Users/ankurduggal/.pyenv/versions/3.11.8/lib/python3.11/site-packages (from nltk<4.0.0,>=3.8.1->llama-index-core<0.11.0,>=0.10.0->llama-index-packs-raft-dataset) (2023.12.25)\n",
      "Requirement already satisfied: distro<2,>=1.7.0 in /Users/ankurduggal/.pyenv/versions/3.11.8/lib/python3.11/site-packages (from openai>=1.1.0->llama-index-core<0.11.0,>=0.10.0->llama-index-packs-raft-dataset) (1.9.0)\n",
      "Requirement already satisfied: charset-normalizer<4,>=2 in /Users/ankurduggal/.pyenv/versions/3.11.8/lib/python3.11/site-packages (from requests>=2.19.0->datasets<3.0.0,>=2.18.0->llama-index-packs-raft-dataset) (3.3.2)\n",
      "Requirement already satisfied: urllib3<3,>=1.21.1 in /Users/ankurduggal/.pyenv/versions/3.11.8/lib/python3.11/site-packages (from requests>=2.19.0->datasets<3.0.0,>=2.18.0->llama-index-packs-raft-dataset) (2.2.1)\n",
      "Requirement already satisfied: greenlet!=0.4.17 in /Users/ankurduggal/.pyenv/versions/3.11.8/lib/python3.11/site-packages (from SQLAlchemy[asyncio]>=1.4.49->llama-index-core<0.11.0,>=0.10.0->llama-index-packs-raft-dataset) (3.0.3)\n",
      "Requirement already satisfied: mypy-extensions>=0.3.0 in /Users/ankurduggal/.pyenv/versions/3.11.8/lib/python3.11/site-packages (from typing-inspect>=0.8.0->llama-index-core<0.11.0,>=0.10.0->llama-index-packs-raft-dataset) (1.0.0)\n",
      "Requirement already satisfied: marshmallow<4.0.0,>=3.18.0 in /Users/ankurduggal/.pyenv/versions/3.11.8/lib/python3.11/site-packages (from dataclasses-json->llama-index-core<0.11.0,>=0.10.0->llama-index-packs-raft-dataset) (3.21.1)\n",
      "Requirement already satisfied: python-dateutil>=2.8.2 in /Users/ankurduggal/.pyenv/versions/3.11.8/lib/python3.11/site-packages (from pandas->datasets<3.0.0,>=2.18.0->llama-index-packs-raft-dataset) (2.9.0.post0)\n",
      "Requirement already satisfied: pytz>=2020.1 in /Users/ankurduggal/.pyenv/versions/3.11.8/lib/python3.11/site-packages (from pandas->datasets<3.0.0,>=2.18.0->llama-index-packs-raft-dataset) (2024.1)\n",
      "Requirement already satisfied: tzdata>=2022.7 in /Users/ankurduggal/.pyenv/versions/3.11.8/lib/python3.11/site-packages (from pandas->datasets<3.0.0,>=2.18.0->llama-index-packs-raft-dataset) (2024.1)\n",
      "Requirement already satisfied: annotated-types>=0.4.0 in /Users/ankurduggal/.pyenv/versions/3.11.8/lib/python3.11/site-packages (from pydantic>=1.10->llamaindex-py-client<0.2.0,>=0.1.15->llama-index-core<0.11.0,>=0.10.0->llama-index-packs-raft-dataset) (0.6.0)\n",
      "Requirement already satisfied: pydantic-core==2.16.2 in /Users/ankurduggal/.pyenv/versions/3.11.8/lib/python3.11/site-packages (from pydantic>=1.10->llamaindex-py-client<0.2.0,>=0.1.15->llama-index-core<0.11.0,>=0.10.0->llama-index-packs-raft-dataset) (2.16.2)\n",
      "Requirement already satisfied: six>=1.5 in /Users/ankurduggal/.pyenv/versions/3.11.8/lib/python3.11/site-packages (from python-dateutil>=2.8.2->pandas->datasets<3.0.0,>=2.18.0->llama-index-packs-raft-dataset) (1.16.0)\n",
      "Downloading llama_index_packs_raft_dataset-0.1.4-py3-none-any.whl (5.7 kB)\n",
      "Installing collected packages: llama-index-packs-raft-dataset\n",
      "Successfully installed llama-index-packs-raft-dataset-0.1.4\n"
     ]
    }
   ],
   "source": [
    "!pip install llama-index-packs-raft-dataset"
   ]
  },
  {
   "cell_type": "code",
   "execution_count": 4,
   "metadata": {},
   "outputs": [
    {
     "ename": "AttributeError",
     "evalue": "'Ollama' object has no attribute 'startswith'",
     "output_type": "error",
     "traceback": [
      "\u001b[0;31m---------------------------------------------------------------------------\u001b[0m",
      "\u001b[0;31mAttributeError\u001b[0m                            Traceback (most recent call last)",
      "Cell \u001b[0;32mIn[4], line 7\u001b[0m\n\u001b[1;32m      4\u001b[0m model \u001b[38;5;241m=\u001b[39m Ollama(model\u001b[38;5;241m=\u001b[39m\u001b[38;5;124m\"\u001b[39m\u001b[38;5;124mllama3:instruct\u001b[39m\u001b[38;5;124m\"\u001b[39m, request_timeout\u001b[38;5;241m=\u001b[39m\u001b[38;5;241m60.0\u001b[39m)\n\u001b[1;32m      6\u001b[0m \u001b[38;5;66;03m# Create dataset generator\u001b[39;00m\n\u001b[0;32m----> 7\u001b[0m generator \u001b[38;5;241m=\u001b[39m \u001b[43mDatasetGenerator\u001b[49m\u001b[43m(\u001b[49m\u001b[43mmodel\u001b[49m\u001b[38;5;241;43m=\u001b[39;49m\u001b[43mmodel\u001b[49m\u001b[43m,\u001b[49m\u001b[43m \u001b[49m\u001b[43mapi_key\u001b[49m\u001b[38;5;241;43m=\u001b[39;49m\u001b[38;5;124;43m\"\u001b[39;49m\u001b[38;5;124;43m\"\u001b[39;49m\u001b[43m)\u001b[49m\n\u001b[1;32m      9\u001b[0m \u001b[38;5;66;03m# Generate dataset from 10-K\u001b[39;00m\n\u001b[1;32m     10\u001b[0m dataset \u001b[38;5;241m=\u001b[39m generator\u001b[38;5;241m.\u001b[39mgenerate_from_10K(\n\u001b[1;32m     11\u001b[0m    ticker\u001b[38;5;241m=\u001b[39m\u001b[38;5;124m\"\u001b[39m\u001b[38;5;124mAAPL\u001b[39m\u001b[38;5;124m\"\u001b[39m,\n\u001b[1;32m     12\u001b[0m    year\u001b[38;5;241m=\u001b[39m\u001b[38;5;241m2023\u001b[39m,\n\u001b[1;32m     13\u001b[0m    max_questions\u001b[38;5;241m=\u001b[39m\u001b[38;5;241m100\u001b[39m,\n\u001b[1;32m     14\u001b[0m )\n",
      "File \u001b[0;32m~/.pyenv/versions/3.11.8/lib/python3.11/site-packages/financial_datasets/generator.py:24\u001b[0m, in \u001b[0;36mDatasetGenerator.__init__\u001b[0;34m(self, model, api_key)\u001b[0m\n\u001b[1;32m     22\u001b[0m \u001b[38;5;28;01mdef\u001b[39;00m \u001b[38;5;21m__init__\u001b[39m(\u001b[38;5;28mself\u001b[39m, model: \u001b[38;5;28mstr\u001b[39m, api_key: \u001b[38;5;28mstr\u001b[39m):\n\u001b[1;32m     23\u001b[0m     \u001b[38;5;66;03m# Ensure model begins with gpt-\u001b[39;00m\n\u001b[0;32m---> 24\u001b[0m     \u001b[38;5;28;01mif\u001b[39;00m \u001b[38;5;129;01mnot\u001b[39;00m \u001b[43mmodel\u001b[49m\u001b[38;5;241;43m.\u001b[39;49m\u001b[43mstartswith\u001b[49m(\u001b[38;5;124m'\u001b[39m\u001b[38;5;124mgpt-\u001b[39m\u001b[38;5;124m'\u001b[39m):\n\u001b[1;32m     25\u001b[0m         \u001b[38;5;28;01mraise\u001b[39;00m \u001b[38;5;167;01mNotImplementedError\u001b[39;00m(\u001b[38;5;124mf\u001b[39m\u001b[38;5;124m'\u001b[39m\u001b[38;5;124mModel \u001b[39m\u001b[38;5;132;01m{\u001b[39;00mmodel\u001b[38;5;132;01m}\u001b[39;00m\u001b[38;5;124m is not supported yet.\u001b[39m\u001b[38;5;124m'\u001b[39m)\n\u001b[1;32m     27\u001b[0m     \u001b[38;5;28;01mif\u001b[39;00m \u001b[38;5;129;01mnot\u001b[39;00m api_key:\n",
      "\u001b[0;31mAttributeError\u001b[0m: 'Ollama' object has no attribute 'startswith'"
     ]
    }
   ],
   "source": [
    "from llama_index.packs.raft_dataset import RAFTDatasetPack\n",
    "from llama_index.llms.ollama import Ollama\n",
    "from llama_index.core import Settings\n",
    "\n",
    "Settings.llm = Ollama(model=\"llama3:instruct\", request_timeout=60.0)\n",
    "\n",
    "raft_dataset = RAFTDatasetPack(\"./paul_graham_essay.txt\")\n"
   ]
  },
  {
   "cell_type": "code",
   "execution_count": null,
   "metadata": {},
   "outputs": [],
   "source": []
  }
 ],
 "metadata": {
  "kernelspec": {
   "display_name": "Python 3",
   "language": "python",
   "name": "python3"
  },
  "language_info": {
   "codemirror_mode": {
    "name": "ipython",
    "version": 3
   },
   "file_extension": ".py",
   "mimetype": "text/x-python",
   "name": "python",
   "nbconvert_exporter": "python",
   "pygments_lexer": "ipython3",
   "version": "3.11.8"
  }
 },
 "nbformat": 4,
 "nbformat_minor": 2
}
